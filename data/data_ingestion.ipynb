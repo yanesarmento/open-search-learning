{
 "cells": [
  {
   "cell_type": "markdown",
   "id": "10f87a39-8383-4326-93bf-70763c4c293d",
   "metadata": {},
   "source": [
    "# Data Ingestion"
   ]
  },
  {
   "cell_type": "code",
   "execution_count": null,
   "id": "c0896173-a3c0-4686-b5de-4709397101d5",
   "metadata": {
    "tags": []
   },
   "outputs": [],
   "source": [
    "pip install opensearch-py"
   ]
  },
  {
   "cell_type": "code",
   "execution_count": null,
   "id": "e7bc49ed-2519-40f7-8b58-6a03ae45cf49",
   "metadata": {
    "tags": []
   },
   "outputs": [],
   "source": [
    "pip install requests"
   ]
  },
  {
   "cell_type": "code",
   "execution_count": 1,
   "id": "6bfeae4f-591f-42d0-bdcc-a1b3cf2ca75d",
   "metadata": {
    "tags": []
   },
   "outputs": [],
   "source": [
    "# Importing the packages\n",
    "\n",
    "from opensearchpy import OpenSearch, RequestsHttpConnection\n",
    "from opensearchpy.helpers import bulk"
   ]
  },
  {
   "cell_type": "code",
   "execution_count": 2,
   "id": "b57a635a-ac5b-4994-9637-c6384ccc073e",
   "metadata": {
    "tags": []
   },
   "outputs": [
    {
     "name": "stdout",
     "output_type": "stream",
     "text": [
      "{'name': 'opensearch-node1', 'cluster_name': 'opensearch-cluster', 'cluster_uuid': 'uav9xBZET9CFi1XQpXN7dQ', 'version': {'distribution': 'opensearch', 'number': '2.6.0', 'build_type': 'tar', 'build_hash': '7203a5af21a8a009aece1474446b437a3c674db6', 'build_date': '2023-02-24T18:57:04.388618985Z', 'build_snapshot': False, 'lucene_version': '9.5.0', 'minimum_wire_compatibility_version': '7.10.0', 'minimum_index_compatibility_version': '7.0.0'}, 'tagline': 'The OpenSearch Project: https://opensearch.org/'}\n"
     ]
    }
   ],
   "source": [
    "host = 'opensearch-node1'\n",
    "port = 9200\n",
    "auth = ('admin', 'admin')\n",
    "\n",
    "# Create the client with SSL/TLS and hostname verification disabled.\n",
    "client = OpenSearch(\n",
    "    hosts = [{'host': host, 'port': port}],\n",
    "    http_auth = auth,\n",
    "    connection_class=RequestsHttpConnection,\n",
    "    http_compress = False, # enables gzip compression for request bodies\n",
    "    use_ssl = True,\n",
    "    verify_certs = False,\n",
    "    ssl_assert_hostname = False,\n",
    "    ssl_show_warn = False\n",
    ")\n",
    "print(client.info())"
   ]
  },
  {
   "cell_type": "markdown",
   "id": "8ea8a6ae-b3b6-4aa4-bd16-def935b23151",
   "metadata": {
    "tags": []
   },
   "source": [
    "## Importing data using pandas\n",
    "### Reading the csv and manually mapping the columns"
   ]
  },
  {
   "cell_type": "code",
   "execution_count": 3,
   "id": "c0775634-6cad-4612-9131-b022c18765d5",
   "metadata": {
    "tags": []
   },
   "outputs": [],
   "source": [
    "import pandas as pd\n",
    "\n",
    "iris_df = (pd.read_csv(\"Iris.csv\").dropna().reset_index(drop=True))\n",
    "\n",
    "body = {\n",
    "    \"mappings\":{\n",
    "        \"properties\": {\n",
    "            \"Id\": {\"type\": \"integer\"},\n",
    "            \"SepalLengthCm\": {\"type\": \"float\"},\n",
    "            \"SepalWidthCm\": {\"type\": \"float\"},\n",
    "            \"PetalLengthCm\": {\"type\": \"float\"},\n",
    "            \"PetalWidthCm\": {\"type\": \"float\"},\n",
    "            \"Species\": {\"type\": \"text\"}\n",
    "        }\n",
    "    }\n",
    "}"
   ]
  },
  {
   "cell_type": "markdown",
   "id": "a0b297af-b065-4ff3-82da-c7148f12dc64",
   "metadata": {
    "tags": []
   },
   "source": [
    "### Creating the dataset Iris"
   ]
  },
  {
   "cell_type": "code",
   "execution_count": 4,
   "id": "86c5a475-99ea-4af7-b0c9-294e503eca16",
   "metadata": {},
   "outputs": [
    {
     "name": "stdout",
     "output_type": "stream",
     "text": [
      "\n",
      "Creating dataset:\n",
      "{'acknowledged': True, 'shards_acknowledged': True, 'index': 'iris'}\n"
     ]
    }
   ],
   "source": [
    "response = client.indices.create(\"iris\", body=body)\n",
    "print('\\nCreating dataset:')\n",
    "print(response)"
   ]
  },
  {
   "cell_type": "markdown",
   "id": "0cd0b218-a086-4916-b7e3-42bd8ceb0fe9",
   "metadata": {},
   "source": [
    "### Ingesting data into the dataset from the csv\n",
    "#### Using Explicit mapping"
   ]
  },
  {
   "cell_type": "code",
   "execution_count": 5,
   "id": "363e3b64-88fd-4fb0-89b6-e5d49189fefe",
   "metadata": {
    "tags": []
   },
   "outputs": [
    {
     "data": {
      "text/plain": [
       "[{'epoch': '1680036929', 'timestamp': '20:55:29', 'count': '150'}]"
      ]
     },
     "execution_count": 5,
     "metadata": {},
     "output_type": "execute_result"
    }
   ],
   "source": [
    "bulk_data = []\n",
    "for i,row in iris_df.iterrows():\n",
    "    bulk_data.append(\n",
    "        {\n",
    "            \"_index\": \"iris\",\n",
    "            \"_id\": i,\n",
    "            \"_source\": {        \n",
    "                \"Id\": row['Id'],\n",
    "                \"SepalLengthCm\": row['SepalLengthCm'],\n",
    "                \"SepalWidthCm\": row['SepalWidthCm'],\n",
    "                \"PetalLengthCm\": row['PetalLengthCm'],\n",
    "                \"PetalWidthCm\": row['PetalWidthCm'],\n",
    "                \"Species\": row['Species']\n",
    "            }\n",
    "        }\n",
    "    )\n",
    "bulk(client, bulk_data)\n",
    "\n",
    "client.indices.refresh(index=\"iris\")\n",
    "client.cat.count(index=\"iris\", format=\"json\")"
   ]
  }
 ],
 "metadata": {
  "kernelspec": {
   "display_name": "Python 3 (ipykernel)",
   "language": "python",
   "name": "python3"
  },
  "language_info": {
   "codemirror_mode": {
    "name": "ipython",
    "version": 3
   },
   "file_extension": ".py",
   "mimetype": "text/x-python",
   "name": "python",
   "nbconvert_exporter": "python",
   "pygments_lexer": "ipython3",
   "version": "3.9.2"
  }
 },
 "nbformat": 4,
 "nbformat_minor": 5
}
